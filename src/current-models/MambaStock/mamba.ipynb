{
 "cells": [
  {
   "metadata": {},
   "cell_type": "markdown",
   "source": "# Mamba in stock prediction",
   "id": "806540ff7d2b31ec"
  },
  {
   "metadata": {
    "ExecuteTime": {
     "end_time": "2024-08-16T07:32:21.933082Z",
     "start_time": "2024-08-16T07:32:16.612058Z"
    }
   },
   "cell_type": "code",
   "source": [
    "import torch\n",
    "import torch.nn as nn\n",
    "import torch.nn.functional as F\n",
    "from sklearn.metrics import mean_squared_error,mean_absolute_error,r2_score\n",
    "import numpy as np\n",
    "import pandas as pd\n",
    "import matplotlib.pyplot as plt\n",
    "from cnn_lstm_kan.mamba import Mamba, MambaConfig"
   ],
   "id": "7d41aa7b68db7489",
   "outputs": [
    {
     "ename": "ModuleNotFoundError",
     "evalue": "No module named 'pscan'",
     "output_type": "error",
     "traceback": [
      "\u001B[1;31m---------------------------------------------------------------------------\u001B[0m",
      "\u001B[1;31mModuleNotFoundError\u001B[0m                       Traceback (most recent call last)",
      "Cell \u001B[1;32mIn[1], line 8\u001B[0m\n\u001B[0;32m      6\u001B[0m \u001B[38;5;28;01mimport\u001B[39;00m \u001B[38;5;21;01mpandas\u001B[39;00m \u001B[38;5;28;01mas\u001B[39;00m \u001B[38;5;21;01mpd\u001B[39;00m\n\u001B[0;32m      7\u001B[0m \u001B[38;5;28;01mimport\u001B[39;00m \u001B[38;5;21;01mmatplotlib\u001B[39;00m\u001B[38;5;21;01m.\u001B[39;00m\u001B[38;5;21;01mpyplot\u001B[39;00m \u001B[38;5;28;01mas\u001B[39;00m \u001B[38;5;21;01mplt\u001B[39;00m\n\u001B[1;32m----> 8\u001B[0m \u001B[38;5;28;01mfrom\u001B[39;00m \u001B[38;5;21;01mcnn_lstm_kan\u001B[39;00m\u001B[38;5;21;01m.\u001B[39;00m\u001B[38;5;21;01mmamba\u001B[39;00m \u001B[38;5;28;01mimport\u001B[39;00m Mamba, MambaConfig\n",
      "File \u001B[1;32mC:\\WorkDir\\ComputerScience\\MachineLearning\\EE\\cnn_lstm_kan\\mamba.py:9\u001B[0m\n\u001B[0;32m      6\u001B[0m \u001B[38;5;28;01mimport\u001B[39;00m \u001B[38;5;21;01mtorch\u001B[39;00m\u001B[38;5;21;01m.\u001B[39;00m\u001B[38;5;21;01mnn\u001B[39;00m \u001B[38;5;28;01mas\u001B[39;00m \u001B[38;5;21;01mnn\u001B[39;00m\n\u001B[0;32m      7\u001B[0m \u001B[38;5;28;01mimport\u001B[39;00m \u001B[38;5;21;01mtorch\u001B[39;00m\u001B[38;5;21;01m.\u001B[39;00m\u001B[38;5;21;01mnn\u001B[39;00m\u001B[38;5;21;01m.\u001B[39;00m\u001B[38;5;21;01mfunctional\u001B[39;00m \u001B[38;5;28;01mas\u001B[39;00m \u001B[38;5;21;01mF\u001B[39;00m\n\u001B[1;32m----> 9\u001B[0m \u001B[38;5;28;01mfrom\u001B[39;00m \u001B[38;5;21;01mpscan\u001B[39;00m \u001B[38;5;28;01mimport\u001B[39;00m pscan\n\u001B[0;32m     11\u001B[0m \u001B[38;5;124;03m\"\"\"\u001B[39;00m\n\u001B[0;32m     12\u001B[0m \n\u001B[0;32m     13\u001B[0m \u001B[38;5;124;03mThis file closely follows the mamba_simple.py from the official Mamba implementation, and the mamba-minimal by @johnma2006.\u001B[39;00m\n\u001B[1;32m   (...)\u001B[0m\n\u001B[0;32m     27\u001B[0m \n\u001B[0;32m     28\u001B[0m \u001B[38;5;124;03m\"\"\"\u001B[39;00m\n\u001B[0;32m     30\u001B[0m \u001B[38;5;129m@dataclass\u001B[39m\n\u001B[0;32m     31\u001B[0m \u001B[38;5;28;01mclass\u001B[39;00m \u001B[38;5;21;01mMambaConfig\u001B[39;00m:\n",
      "\u001B[1;31mModuleNotFoundError\u001B[0m: No module named 'pscan'"
     ]
    }
   ],
   "execution_count": 1
  },
  {
   "metadata": {},
   "cell_type": "markdown",
   "source": "## Configurations",
   "id": "9ad5af9a3eb9a45b"
  },
  {
   "metadata": {
    "ExecuteTime": {
     "end_time": "2024-08-15T15:21:13.883673Z",
     "start_time": "2024-08-15T15:21:13.872673Z"
    }
   },
   "cell_type": "code",
   "source": [
    "class args:\n",
    "    seed=1\n",
    "    epochs=100\n",
    "    lr=0.01\n",
    "    wd=1e-5\n",
    "    hidden=16\n",
    "    layer=2\n",
    "    test_size=0.2\n",
    "    cuda=torch.cuda.is_available()\n",
    "    ts_code='600519'"
   ],
   "id": "85b59e24c0e3625d",
   "outputs": [],
   "execution_count": 62
  },
  {
   "cell_type": "code",
   "id": "initial_id",
   "metadata": {
    "collapsed": true,
    "ExecuteTime": {
     "end_time": "2024-08-15T15:21:17.348475Z",
     "start_time": "2024-08-15T15:21:17.341475Z"
    }
   },
   "source": [
    "def evaluation_metric(y_test,y_hat):\n",
    "    MSE = mean_squared_error(y_test, y_hat)\n",
    "    RMSE = MSE**0.5\n",
    "    MAE = mean_absolute_error(y_test,y_hat)\n",
    "    R2 = r2_score(y_test,y_hat)\n",
    "    print('%.4f %.4f %.4f %.4f' % (MSE,RMSE,MAE,R2))\n",
    "\n",
    "def set_seed(seed,cuda):\n",
    "    np.random.seed(seed)\n",
    "    torch.manual_seed(seed)\n",
    "    if cuda:\n",
    "        torch.cuda.manual_seed(seed)\n",
    "\n",
    "def dateinf(series, n_test):\n",
    "    lt = len(series)\n",
    "    print('Training start',series[0])\n",
    "    print('Training end',series[lt-n_test-1])\n",
    "    print('Testing start',series[lt-n_test])\n",
    "    print('Testing end',series[lt-1])"
   ],
   "outputs": [],
   "execution_count": 63
  },
  {
   "metadata": {
    "ExecuteTime": {
     "end_time": "2024-08-15T15:21:17.771154Z",
     "start_time": "2024-08-15T15:21:17.762155Z"
    }
   },
   "cell_type": "code",
   "source": [
    "device=torch.device('cuda' if torch.cuda.is_available() else 'cpu')\n",
    "set_seed(args.seed,torch.cuda.is_available())"
   ],
   "id": "81ca53d469132b92",
   "outputs": [],
   "execution_count": 64
  },
  {
   "metadata": {},
   "cell_type": "markdown",
   "source": "## Define network",
   "id": "f385c80879e141ab"
  },
  {
   "metadata": {
    "ExecuteTime": {
     "end_time": "2024-08-15T15:21:19.633734Z",
     "start_time": "2024-08-15T15:21:19.622734Z"
    }
   },
   "cell_type": "code",
   "source": [
    "class Net(nn.Module):\n",
    "    def __init__(self,in_dim,out_dim):\n",
    "        super().__init__()\n",
    "        self.config = MambaConfig(d_model=args.hidden, n_layers=args.layer)\n",
    "        self.mamba = nn.Sequential(\n",
    "            nn.Linear(in_dim,args.hidden),\n",
    "            Mamba(self.config),\n",
    "            nn.Linear(args.hidden,out_dim),\n",
    "            nn.Tanh()\n",
    "        )\n",
    "\n",
    "    def forward(self,x):\n",
    "        x = self.mamba(x)\n",
    "        return x.flatten()"
   ],
   "id": "7f8466ed477619b1",
   "outputs": [],
   "execution_count": 65
  },
  {
   "metadata": {},
   "cell_type": "markdown",
   "source": "## Train and test",
   "id": "c229ff08eaff9d86"
  },
  {
   "metadata": {
    "ExecuteTime": {
     "end_time": "2024-08-15T15:50:19.240354Z",
     "start_time": "2024-08-15T15:50:19.232844Z"
    }
   },
   "cell_type": "code",
   "source": "trainX.shape",
   "id": "1c78b84ff00cabcf",
   "outputs": [
    {
     "data": {
      "text/plain": [
       "(1362, 12)"
      ]
     },
     "execution_count": 86,
     "metadata": {},
     "output_type": "execute_result"
    }
   ],
   "execution_count": 86
  },
  {
   "metadata": {
    "ExecuteTime": {
     "end_time": "2024-08-15T15:51:58.164167Z",
     "start_time": "2024-08-15T15:51:58.146163Z"
    }
   },
   "cell_type": "code",
   "source": [
    "# xt = torch.from_numpy(trainX).float().unsqueeze(0)\n",
    "trainy.shape"
   ],
   "id": "bd277c81596835a3",
   "outputs": [
    {
     "data": {
      "text/plain": [
       "(1362,)"
      ]
     },
     "execution_count": 89,
     "metadata": {},
     "output_type": "execute_result"
    }
   ],
   "execution_count": 89
  },
  {
   "metadata": {
    "ExecuteTime": {
     "end_time": "2024-08-15T16:01:15.920170Z",
     "start_time": "2024-08-15T16:01:15.903170Z"
    }
   },
   "cell_type": "code",
   "source": [
    "def PredictWithData(trainX, trainy, testX):\n",
    "    clf = Net(len(trainX[0]),1)\n",
    "    opt = torch.optim.Adam(clf.parameters(),lr=args.lr,weight_decay=args.wd)\n",
    "    xt = torch.from_numpy(trainX).float().unsqueeze(0)\n",
    "    xv = torch.from_numpy(testX).float().unsqueeze(0)\n",
    "    yt = torch.from_numpy(trainy).float()\n",
    "    print(f'xt {xt.shape} xv {xv.shape} yt {yt.shape}')\n",
    "    if args.cuda:\n",
    "        clf = clf.cuda()\n",
    "        xt = xt.cuda()\n",
    "        xv = xv.cuda()\n",
    "        yt = yt.cuda()\n",
    "\n",
    "    for e in range(args.epochs):\n",
    "        clf.train()\n",
    "        z = clf(xt)\n",
    "        loss = F.mse_loss(z,yt)\n",
    "        opt.zero_grad()\n",
    "        loss.backward()\n",
    "        opt.step()\n",
    "        if(e%10==0):\n",
    "            print('Epoch %d | Lossp: %.4f' % (e, loss.item()))\n",
    "\n",
    "    clf.eval()\n",
    "    mat = clf(xv)\n",
    "    if args.cuda: mat = mat.cpu()\n",
    "    yhat = mat.detach().numpy().flatten()\n",
    "    return yhat"
   ],
   "id": "a274703ed49d1919",
   "outputs": [],
   "execution_count": 96
  },
  {
   "metadata": {},
   "cell_type": "markdown",
   "source": "## Read Data",
   "id": "55b467564f6beb4d"
  },
  {
   "metadata": {
    "ExecuteTime": {
     "end_time": "2024-08-15T16:01:16.752255Z",
     "start_time": "2024-08-15T16:01:16.728051Z"
    }
   },
   "cell_type": "code",
   "source": [
    "data = pd.read_csv(f'../data/{args.ts_code}.csv')\n",
    "data"
   ],
   "id": "6f79eeace9edb9c3",
   "outputs": [
    {
     "data": {
      "text/plain": [
       "            Date       Code     Open     High      Low    Close  Preclose  \\\n",
       "0     2017-08-14  sh.600519   485.21   500.10   485.21   499.83    484.06   \n",
       "1     2017-08-15  sh.600519   500.11   501.10   495.01   495.97    499.83   \n",
       "2     2017-08-16  sh.600519   498.00   498.80   493.00   496.49    495.97   \n",
       "3     2017-08-17  sh.600519   497.60   497.60   489.80   492.69    496.49   \n",
       "4     2017-08-18  sh.600519   492.80   494.44   488.00   489.65    492.69   \n",
       "...          ...        ...      ...      ...      ...      ...       ...   \n",
       "1697  2024-08-08  sh.600519  1411.00  1448.18  1409.00  1430.69   1415.50   \n",
       "1698  2024-08-09  sh.600519  1460.03  1469.00  1436.80  1436.80   1430.69   \n",
       "1699  2024-08-12  sh.600519  1430.00  1443.00  1426.58  1436.10   1436.80   \n",
       "1700  2024-08-13  sh.600519  1433.00  1435.00  1412.01  1423.01   1436.10   \n",
       "1701  2024-08-14  sh.600519  1423.01  1424.90  1412.02  1413.30   1423.01   \n",
       "\n",
       "       Volume        Amount  Adjustflag      Turn  Tradestatus    Pctchg  \\\n",
       "0     3933147  1.952354e+09           3  0.313099            1  3.257858   \n",
       "1     2716322  1.350105e+09           3  0.216234            1 -0.772260   \n",
       "2     1858722  9.214130e+08           3  0.147964            1  0.104843   \n",
       "3     2584673  1.272341e+09           3  0.205754            1 -0.765370   \n",
       "4     2385775  1.169733e+09           3  0.189920            1 -0.617023   \n",
       "...       ...           ...         ...       ...          ...       ...   \n",
       "1697  2513082  3.592705e+09           3  0.200100            1  1.073100   \n",
       "1698  3013849  4.368706e+09           3  0.239900            1  0.427100   \n",
       "1699  1363203  1.956573e+09           3  0.108500            1 -0.048700   \n",
       "1700  1630843  2.317038e+09           3  0.129800            1 -0.911500   \n",
       "1701  1341431  1.898377e+09           3  0.106800            1 -0.682400   \n",
       "\n",
       "          Pettm     Pbmrq      Psttm    Pcfncfttm  \n",
       "0     32.759372  8.302876  13.384504    25.786295  \n",
       "1     32.506384  8.238756  13.281141    25.587157  \n",
       "2     32.540465  8.247394  13.295065    25.613984  \n",
       "3     32.291409  8.184271  13.193308    25.417941  \n",
       "4     32.092165  8.133772  13.111903    25.261107  \n",
       "...         ...       ...        ...          ...  \n",
       "1697  23.040091  7.496835  11.398984  1892.855626  \n",
       "1698  22.435319  8.257577  11.071387  -408.037924  \n",
       "1699  22.424389  8.253554  11.065993  -407.839130  \n",
       "1700  22.219991  8.178323  10.965127  -404.121691  \n",
       "1701  22.068372  8.122518  10.890306  -401.364141  \n",
       "\n",
       "[1702 rows x 17 columns]"
      ],
      "text/html": [
       "<div>\n",
       "<style scoped>\n",
       "    .dataframe tbody tr th:only-of-type {\n",
       "        vertical-align: middle;\n",
       "    }\n",
       "\n",
       "    .dataframe tbody tr th {\n",
       "        vertical-align: top;\n",
       "    }\n",
       "\n",
       "    .dataframe thead th {\n",
       "        text-align: right;\n",
       "    }\n",
       "</style>\n",
       "<table border=\"1\" class=\"dataframe\">\n",
       "  <thead>\n",
       "    <tr style=\"text-align: right;\">\n",
       "      <th></th>\n",
       "      <th>Date</th>\n",
       "      <th>Code</th>\n",
       "      <th>Open</th>\n",
       "      <th>High</th>\n",
       "      <th>Low</th>\n",
       "      <th>Close</th>\n",
       "      <th>Preclose</th>\n",
       "      <th>Volume</th>\n",
       "      <th>Amount</th>\n",
       "      <th>Adjustflag</th>\n",
       "      <th>Turn</th>\n",
       "      <th>Tradestatus</th>\n",
       "      <th>Pctchg</th>\n",
       "      <th>Pettm</th>\n",
       "      <th>Pbmrq</th>\n",
       "      <th>Psttm</th>\n",
       "      <th>Pcfncfttm</th>\n",
       "    </tr>\n",
       "  </thead>\n",
       "  <tbody>\n",
       "    <tr>\n",
       "      <th>0</th>\n",
       "      <td>2017-08-14</td>\n",
       "      <td>sh.600519</td>\n",
       "      <td>485.21</td>\n",
       "      <td>500.10</td>\n",
       "      <td>485.21</td>\n",
       "      <td>499.83</td>\n",
       "      <td>484.06</td>\n",
       "      <td>3933147</td>\n",
       "      <td>1.952354e+09</td>\n",
       "      <td>3</td>\n",
       "      <td>0.313099</td>\n",
       "      <td>1</td>\n",
       "      <td>3.257858</td>\n",
       "      <td>32.759372</td>\n",
       "      <td>8.302876</td>\n",
       "      <td>13.384504</td>\n",
       "      <td>25.786295</td>\n",
       "    </tr>\n",
       "    <tr>\n",
       "      <th>1</th>\n",
       "      <td>2017-08-15</td>\n",
       "      <td>sh.600519</td>\n",
       "      <td>500.11</td>\n",
       "      <td>501.10</td>\n",
       "      <td>495.01</td>\n",
       "      <td>495.97</td>\n",
       "      <td>499.83</td>\n",
       "      <td>2716322</td>\n",
       "      <td>1.350105e+09</td>\n",
       "      <td>3</td>\n",
       "      <td>0.216234</td>\n",
       "      <td>1</td>\n",
       "      <td>-0.772260</td>\n",
       "      <td>32.506384</td>\n",
       "      <td>8.238756</td>\n",
       "      <td>13.281141</td>\n",
       "      <td>25.587157</td>\n",
       "    </tr>\n",
       "    <tr>\n",
       "      <th>2</th>\n",
       "      <td>2017-08-16</td>\n",
       "      <td>sh.600519</td>\n",
       "      <td>498.00</td>\n",
       "      <td>498.80</td>\n",
       "      <td>493.00</td>\n",
       "      <td>496.49</td>\n",
       "      <td>495.97</td>\n",
       "      <td>1858722</td>\n",
       "      <td>9.214130e+08</td>\n",
       "      <td>3</td>\n",
       "      <td>0.147964</td>\n",
       "      <td>1</td>\n",
       "      <td>0.104843</td>\n",
       "      <td>32.540465</td>\n",
       "      <td>8.247394</td>\n",
       "      <td>13.295065</td>\n",
       "      <td>25.613984</td>\n",
       "    </tr>\n",
       "    <tr>\n",
       "      <th>3</th>\n",
       "      <td>2017-08-17</td>\n",
       "      <td>sh.600519</td>\n",
       "      <td>497.60</td>\n",
       "      <td>497.60</td>\n",
       "      <td>489.80</td>\n",
       "      <td>492.69</td>\n",
       "      <td>496.49</td>\n",
       "      <td>2584673</td>\n",
       "      <td>1.272341e+09</td>\n",
       "      <td>3</td>\n",
       "      <td>0.205754</td>\n",
       "      <td>1</td>\n",
       "      <td>-0.765370</td>\n",
       "      <td>32.291409</td>\n",
       "      <td>8.184271</td>\n",
       "      <td>13.193308</td>\n",
       "      <td>25.417941</td>\n",
       "    </tr>\n",
       "    <tr>\n",
       "      <th>4</th>\n",
       "      <td>2017-08-18</td>\n",
       "      <td>sh.600519</td>\n",
       "      <td>492.80</td>\n",
       "      <td>494.44</td>\n",
       "      <td>488.00</td>\n",
       "      <td>489.65</td>\n",
       "      <td>492.69</td>\n",
       "      <td>2385775</td>\n",
       "      <td>1.169733e+09</td>\n",
       "      <td>3</td>\n",
       "      <td>0.189920</td>\n",
       "      <td>1</td>\n",
       "      <td>-0.617023</td>\n",
       "      <td>32.092165</td>\n",
       "      <td>8.133772</td>\n",
       "      <td>13.111903</td>\n",
       "      <td>25.261107</td>\n",
       "    </tr>\n",
       "    <tr>\n",
       "      <th>...</th>\n",
       "      <td>...</td>\n",
       "      <td>...</td>\n",
       "      <td>...</td>\n",
       "      <td>...</td>\n",
       "      <td>...</td>\n",
       "      <td>...</td>\n",
       "      <td>...</td>\n",
       "      <td>...</td>\n",
       "      <td>...</td>\n",
       "      <td>...</td>\n",
       "      <td>...</td>\n",
       "      <td>...</td>\n",
       "      <td>...</td>\n",
       "      <td>...</td>\n",
       "      <td>...</td>\n",
       "      <td>...</td>\n",
       "      <td>...</td>\n",
       "    </tr>\n",
       "    <tr>\n",
       "      <th>1697</th>\n",
       "      <td>2024-08-08</td>\n",
       "      <td>sh.600519</td>\n",
       "      <td>1411.00</td>\n",
       "      <td>1448.18</td>\n",
       "      <td>1409.00</td>\n",
       "      <td>1430.69</td>\n",
       "      <td>1415.50</td>\n",
       "      <td>2513082</td>\n",
       "      <td>3.592705e+09</td>\n",
       "      <td>3</td>\n",
       "      <td>0.200100</td>\n",
       "      <td>1</td>\n",
       "      <td>1.073100</td>\n",
       "      <td>23.040091</td>\n",
       "      <td>7.496835</td>\n",
       "      <td>11.398984</td>\n",
       "      <td>1892.855626</td>\n",
       "    </tr>\n",
       "    <tr>\n",
       "      <th>1698</th>\n",
       "      <td>2024-08-09</td>\n",
       "      <td>sh.600519</td>\n",
       "      <td>1460.03</td>\n",
       "      <td>1469.00</td>\n",
       "      <td>1436.80</td>\n",
       "      <td>1436.80</td>\n",
       "      <td>1430.69</td>\n",
       "      <td>3013849</td>\n",
       "      <td>4.368706e+09</td>\n",
       "      <td>3</td>\n",
       "      <td>0.239900</td>\n",
       "      <td>1</td>\n",
       "      <td>0.427100</td>\n",
       "      <td>22.435319</td>\n",
       "      <td>8.257577</td>\n",
       "      <td>11.071387</td>\n",
       "      <td>-408.037924</td>\n",
       "    </tr>\n",
       "    <tr>\n",
       "      <th>1699</th>\n",
       "      <td>2024-08-12</td>\n",
       "      <td>sh.600519</td>\n",
       "      <td>1430.00</td>\n",
       "      <td>1443.00</td>\n",
       "      <td>1426.58</td>\n",
       "      <td>1436.10</td>\n",
       "      <td>1436.80</td>\n",
       "      <td>1363203</td>\n",
       "      <td>1.956573e+09</td>\n",
       "      <td>3</td>\n",
       "      <td>0.108500</td>\n",
       "      <td>1</td>\n",
       "      <td>-0.048700</td>\n",
       "      <td>22.424389</td>\n",
       "      <td>8.253554</td>\n",
       "      <td>11.065993</td>\n",
       "      <td>-407.839130</td>\n",
       "    </tr>\n",
       "    <tr>\n",
       "      <th>1700</th>\n",
       "      <td>2024-08-13</td>\n",
       "      <td>sh.600519</td>\n",
       "      <td>1433.00</td>\n",
       "      <td>1435.00</td>\n",
       "      <td>1412.01</td>\n",
       "      <td>1423.01</td>\n",
       "      <td>1436.10</td>\n",
       "      <td>1630843</td>\n",
       "      <td>2.317038e+09</td>\n",
       "      <td>3</td>\n",
       "      <td>0.129800</td>\n",
       "      <td>1</td>\n",
       "      <td>-0.911500</td>\n",
       "      <td>22.219991</td>\n",
       "      <td>8.178323</td>\n",
       "      <td>10.965127</td>\n",
       "      <td>-404.121691</td>\n",
       "    </tr>\n",
       "    <tr>\n",
       "      <th>1701</th>\n",
       "      <td>2024-08-14</td>\n",
       "      <td>sh.600519</td>\n",
       "      <td>1423.01</td>\n",
       "      <td>1424.90</td>\n",
       "      <td>1412.02</td>\n",
       "      <td>1413.30</td>\n",
       "      <td>1423.01</td>\n",
       "      <td>1341431</td>\n",
       "      <td>1.898377e+09</td>\n",
       "      <td>3</td>\n",
       "      <td>0.106800</td>\n",
       "      <td>1</td>\n",
       "      <td>-0.682400</td>\n",
       "      <td>22.068372</td>\n",
       "      <td>8.122518</td>\n",
       "      <td>10.890306</td>\n",
       "      <td>-401.364141</td>\n",
       "    </tr>\n",
       "  </tbody>\n",
       "</table>\n",
       "<p>1702 rows × 17 columns</p>\n",
       "</div>"
      ]
     },
     "execution_count": 97,
     "metadata": {},
     "output_type": "execute_result"
    }
   ],
   "execution_count": 97
  },
  {
   "metadata": {
    "ExecuteTime": {
     "end_time": "2024-08-15T16:01:17.410157Z",
     "start_time": "2024-08-15T16:01:17.399157Z"
    }
   },
   "cell_type": "code",
   "source": [
    "if 'Close' in data.columns:\n",
    "    close = data.pop('Close').values\n",
    "ratechg = data['Pctchg'].apply(lambda x: 0.01 * x).values\n",
    "data.drop(columns=['Preclose', 'Pctchg'], inplace=True)\n",
    "dat = data.iloc[:, 2:].values\n",
    "dat"
   ],
   "id": "c5805218fa680d73",
   "outputs": [
    {
     "data": {
      "text/plain": [
       "array([[ 485.21    ,  500.1     ,  485.21    , ...,    8.302876,\n",
       "          13.384504,   25.786295],\n",
       "       [ 500.11    ,  501.1     ,  495.01    , ...,    8.238756,\n",
       "          13.281141,   25.587157],\n",
       "       [ 498.      ,  498.8     ,  493.      , ...,    8.247394,\n",
       "          13.295065,   25.613984],\n",
       "       ...,\n",
       "       [1430.      , 1443.      , 1426.58    , ...,    8.253554,\n",
       "          11.065993, -407.83913 ],\n",
       "       [1433.      , 1435.      , 1412.01    , ...,    8.178323,\n",
       "          10.965127, -404.121691],\n",
       "       [1423.01    , 1424.9     , 1412.02    , ...,    8.122518,\n",
       "          10.890306, -401.364141]])"
      ]
     },
     "execution_count": 98,
     "metadata": {},
     "output_type": "execute_result"
    }
   ],
   "execution_count": 98
  },
  {
   "metadata": {},
   "cell_type": "markdown",
   "source": "## Split data",
   "id": "df355948a69d80fc"
  },
  {
   "metadata": {
    "ExecuteTime": {
     "end_time": "2024-08-15T16:01:18.447585Z",
     "start_time": "2024-08-15T16:01:18.428581Z"
    }
   },
   "cell_type": "code",
   "source": [
    "n_test=int(args.test_size*len(dat))\n",
    "trainX, testX = dat[:-n_test, :], dat[-n_test:, :]\n",
    "trainy = ratechg[:-n_test]\n",
    "trainX.shape, testX.shape, trainy.shape"
   ],
   "id": "5c5bb095e327ac16",
   "outputs": [
    {
     "data": {
      "text/plain": [
       "((1362, 12), (340, 12), (1362,))"
      ]
     },
     "execution_count": 99,
     "metadata": {},
     "output_type": "execute_result"
    }
   ],
   "execution_count": 99
  },
  {
   "metadata": {},
   "cell_type": "markdown",
   "source": "## Start training and testing",
   "id": "56c98b4e97132a51"
  },
  {
   "metadata": {
    "ExecuteTime": {
     "end_time": "2024-08-15T16:01:20.804582Z",
     "start_time": "2024-08-15T16:01:19.321157Z"
    }
   },
   "cell_type": "code",
   "source": [
    "predictions = PredictWithData(trainX, trainy, testX)\n",
    "time = data['Date'][-n_test:]\n",
    "data1 = close[-n_test:]\n",
    "finalpredicted_stock_price = []\n",
    "pred = close[-n_test - 1]\n",
    "for i in range(n_test):\n",
    "    pred = close[-n_test - 1 + i] * (1 + predictions[i])\n",
    "    finalpredicted_stock_price.append(pred)"
   ],
   "id": "dfdfcdc752796469",
   "outputs": [
    {
     "name": "stdout",
     "output_type": "stream",
     "text": [
      "xt torch.Size([1, 1362, 12]) xv torch.Size([1, 340, 12]) yt torch.Size([1362])\n",
      "Epoch 0 | Lossp: 0.0134\n",
      "Epoch 10 | Lossp: 0.0043\n",
      "Epoch 20 | Lossp: 0.0009\n",
      "Epoch 30 | Lossp: 0.0004\n",
      "Epoch 40 | Lossp: 0.0006\n",
      "Epoch 50 | Lossp: 0.0006\n",
      "Epoch 60 | Lossp: 0.0004\n",
      "Epoch 70 | Lossp: 0.0004\n",
      "Epoch 80 | Lossp: 0.0004\n",
      "Epoch 90 | Lossp: 0.0004\n"
     ]
    }
   ],
   "execution_count": 100
  },
  {
   "metadata": {},
   "cell_type": "markdown",
   "source": "## Plotting result",
   "id": "37af1b041a8fc5f"
  },
  {
   "metadata": {
    "ExecuteTime": {
     "end_time": "2024-08-15T15:24:47.058511Z",
     "start_time": "2024-08-15T15:24:46.866577Z"
    }
   },
   "cell_type": "code",
   "source": [
    "dateinf(data['Date'], n_test)\n",
    "print('MSE RMSE MAE R2')\n",
    "evaluation_metric(data1, finalpredicted_stock_price)\n",
    "plt.figure(figsize=(10, 6))\n",
    "plt.plot(time, data1, label='Stock Price')\n",
    "plt.plot(time, finalpredicted_stock_price, label='Predicted Stock Price')\n",
    "plt.title('Stock Price Prediction')\n",
    "plt.xlabel('Time', fontsize=12, verticalalignment='top')\n",
    "plt.ylabel('Close', fontsize=14, horizontalalignment='center')\n",
    "plt.legend()\n",
    "plt.show()"
   ],
   "id": "fbae767e3c09290c",
   "outputs": [
    {
     "name": "stdout",
     "output_type": "stream",
     "text": [
      "Training start 2017-08-14\n",
      "Training end 2023-03-22\n",
      "Testing start 2023-03-23\n",
      "Testing end 2024-08-14\n",
      "MSE RMSE MAE R2\n"
     ]
    },
    {
     "ename": "ValueError",
     "evalue": "Input contains NaN.",
     "output_type": "error",
     "traceback": [
      "\u001B[1;31m---------------------------------------------------------------------------\u001B[0m",
      "\u001B[1;31mValueError\u001B[0m                                Traceback (most recent call last)",
      "Cell \u001B[1;32mIn[78], line 3\u001B[0m\n\u001B[0;32m      1\u001B[0m dateinf(data[\u001B[38;5;124m'\u001B[39m\u001B[38;5;124mDate\u001B[39m\u001B[38;5;124m'\u001B[39m], n_test)\n\u001B[0;32m      2\u001B[0m \u001B[38;5;28mprint\u001B[39m(\u001B[38;5;124m'\u001B[39m\u001B[38;5;124mMSE RMSE MAE R2\u001B[39m\u001B[38;5;124m'\u001B[39m)\n\u001B[1;32m----> 3\u001B[0m \u001B[43mevaluation_metric\u001B[49m\u001B[43m(\u001B[49m\u001B[43mdata1\u001B[49m\u001B[43m,\u001B[49m\u001B[43m \u001B[49m\u001B[43mfinalpredicted_stock_price\u001B[49m\u001B[43m)\u001B[49m\n\u001B[0;32m      4\u001B[0m plt\u001B[38;5;241m.\u001B[39mfigure(figsize\u001B[38;5;241m=\u001B[39m(\u001B[38;5;241m10\u001B[39m, \u001B[38;5;241m6\u001B[39m))\n\u001B[0;32m      5\u001B[0m plt\u001B[38;5;241m.\u001B[39mplot(time, data1, label\u001B[38;5;241m=\u001B[39m\u001B[38;5;124m'\u001B[39m\u001B[38;5;124mStock Price\u001B[39m\u001B[38;5;124m'\u001B[39m)\n",
      "Cell \u001B[1;32mIn[63], line 2\u001B[0m, in \u001B[0;36mevaluation_metric\u001B[1;34m(y_test, y_hat)\u001B[0m\n\u001B[0;32m      1\u001B[0m \u001B[38;5;28;01mdef\u001B[39;00m \u001B[38;5;21mevaluation_metric\u001B[39m(y_test,y_hat):\n\u001B[1;32m----> 2\u001B[0m     MSE \u001B[38;5;241m=\u001B[39m \u001B[43mmean_squared_error\u001B[49m\u001B[43m(\u001B[49m\u001B[43my_test\u001B[49m\u001B[43m,\u001B[49m\u001B[43m \u001B[49m\u001B[43my_hat\u001B[49m\u001B[43m)\u001B[49m\n\u001B[0;32m      3\u001B[0m     RMSE \u001B[38;5;241m=\u001B[39m MSE\u001B[38;5;241m*\u001B[39m\u001B[38;5;241m*\u001B[39m\u001B[38;5;241m0.5\u001B[39m\n\u001B[0;32m      4\u001B[0m     MAE \u001B[38;5;241m=\u001B[39m mean_absolute_error(y_test,y_hat)\n",
      "File \u001B[1;32m~\\miniconda3\\envs\\d2l\\lib\\site-packages\\sklearn\\utils\\_param_validation.py:214\u001B[0m, in \u001B[0;36mvalidate_params.<locals>.decorator.<locals>.wrapper\u001B[1;34m(*args, **kwargs)\u001B[0m\n\u001B[0;32m    208\u001B[0m \u001B[38;5;28;01mtry\u001B[39;00m:\n\u001B[0;32m    209\u001B[0m     \u001B[38;5;28;01mwith\u001B[39;00m config_context(\n\u001B[0;32m    210\u001B[0m         skip_parameter_validation\u001B[38;5;241m=\u001B[39m(\n\u001B[0;32m    211\u001B[0m             prefer_skip_nested_validation \u001B[38;5;129;01mor\u001B[39;00m global_skip_validation\n\u001B[0;32m    212\u001B[0m         )\n\u001B[0;32m    213\u001B[0m     ):\n\u001B[1;32m--> 214\u001B[0m         \u001B[38;5;28;01mreturn\u001B[39;00m \u001B[43mfunc\u001B[49m\u001B[43m(\u001B[49m\u001B[38;5;241;43m*\u001B[39;49m\u001B[43margs\u001B[49m\u001B[43m,\u001B[49m\u001B[43m \u001B[49m\u001B[38;5;241;43m*\u001B[39;49m\u001B[38;5;241;43m*\u001B[39;49m\u001B[43mkwargs\u001B[49m\u001B[43m)\u001B[49m\n\u001B[0;32m    215\u001B[0m \u001B[38;5;28;01mexcept\u001B[39;00m InvalidParameterError \u001B[38;5;28;01mas\u001B[39;00m e:\n\u001B[0;32m    216\u001B[0m     \u001B[38;5;66;03m# When the function is just a wrapper around an estimator, we allow\u001B[39;00m\n\u001B[0;32m    217\u001B[0m     \u001B[38;5;66;03m# the function to delegate validation to the estimator, but we replace\u001B[39;00m\n\u001B[0;32m    218\u001B[0m     \u001B[38;5;66;03m# the name of the estimator by the name of the function in the error\u001B[39;00m\n\u001B[0;32m    219\u001B[0m     \u001B[38;5;66;03m# message to avoid confusion.\u001B[39;00m\n\u001B[0;32m    220\u001B[0m     msg \u001B[38;5;241m=\u001B[39m re\u001B[38;5;241m.\u001B[39msub(\n\u001B[0;32m    221\u001B[0m         \u001B[38;5;124mr\u001B[39m\u001B[38;5;124m\"\u001B[39m\u001B[38;5;124mparameter of \u001B[39m\u001B[38;5;124m\\\u001B[39m\u001B[38;5;124mw+ must be\u001B[39m\u001B[38;5;124m\"\u001B[39m,\n\u001B[0;32m    222\u001B[0m         \u001B[38;5;124mf\u001B[39m\u001B[38;5;124m\"\u001B[39m\u001B[38;5;124mparameter of \u001B[39m\u001B[38;5;132;01m{\u001B[39;00mfunc\u001B[38;5;241m.\u001B[39m\u001B[38;5;18m__qualname__\u001B[39m\u001B[38;5;132;01m}\u001B[39;00m\u001B[38;5;124m must be\u001B[39m\u001B[38;5;124m\"\u001B[39m,\n\u001B[0;32m    223\u001B[0m         \u001B[38;5;28mstr\u001B[39m(e),\n\u001B[0;32m    224\u001B[0m     )\n",
      "File \u001B[1;32m~\\miniconda3\\envs\\d2l\\lib\\site-packages\\sklearn\\metrics\\_regression.py:474\u001B[0m, in \u001B[0;36mmean_squared_error\u001B[1;34m(y_true, y_pred, sample_weight, multioutput, squared)\u001B[0m\n\u001B[0;32m    404\u001B[0m \u001B[38;5;129m@validate_params\u001B[39m(\n\u001B[0;32m    405\u001B[0m     {\n\u001B[0;32m    406\u001B[0m         \u001B[38;5;124m\"\u001B[39m\u001B[38;5;124my_true\u001B[39m\u001B[38;5;124m\"\u001B[39m: [\u001B[38;5;124m\"\u001B[39m\u001B[38;5;124marray-like\u001B[39m\u001B[38;5;124m\"\u001B[39m],\n\u001B[1;32m   (...)\u001B[0m\n\u001B[0;32m    415\u001B[0m     y_true, y_pred, \u001B[38;5;241m*\u001B[39m, sample_weight\u001B[38;5;241m=\u001B[39m\u001B[38;5;28;01mNone\u001B[39;00m, multioutput\u001B[38;5;241m=\u001B[39m\u001B[38;5;124m\"\u001B[39m\u001B[38;5;124muniform_average\u001B[39m\u001B[38;5;124m\"\u001B[39m, squared\u001B[38;5;241m=\u001B[39m\u001B[38;5;28;01mTrue\u001B[39;00m\n\u001B[0;32m    416\u001B[0m ):\n\u001B[0;32m    417\u001B[0m \u001B[38;5;250m    \u001B[39m\u001B[38;5;124;03m\"\"\"Mean squared error regression loss.\u001B[39;00m\n\u001B[0;32m    418\u001B[0m \n\u001B[0;32m    419\u001B[0m \u001B[38;5;124;03m    Read more in the :ref:`User Guide <mean_squared_error>`.\u001B[39;00m\n\u001B[1;32m   (...)\u001B[0m\n\u001B[0;32m    472\u001B[0m \u001B[38;5;124;03m    0.825...\u001B[39;00m\n\u001B[0;32m    473\u001B[0m \u001B[38;5;124;03m    \"\"\"\u001B[39;00m\n\u001B[1;32m--> 474\u001B[0m     y_type, y_true, y_pred, multioutput \u001B[38;5;241m=\u001B[39m \u001B[43m_check_reg_targets\u001B[49m\u001B[43m(\u001B[49m\n\u001B[0;32m    475\u001B[0m \u001B[43m        \u001B[49m\u001B[43my_true\u001B[49m\u001B[43m,\u001B[49m\u001B[43m \u001B[49m\u001B[43my_pred\u001B[49m\u001B[43m,\u001B[49m\u001B[43m \u001B[49m\u001B[43mmultioutput\u001B[49m\n\u001B[0;32m    476\u001B[0m \u001B[43m    \u001B[49m\u001B[43m)\u001B[49m\n\u001B[0;32m    477\u001B[0m     check_consistent_length(y_true, y_pred, sample_weight)\n\u001B[0;32m    478\u001B[0m     output_errors \u001B[38;5;241m=\u001B[39m np\u001B[38;5;241m.\u001B[39maverage((y_true \u001B[38;5;241m-\u001B[39m y_pred) \u001B[38;5;241m*\u001B[39m\u001B[38;5;241m*\u001B[39m \u001B[38;5;241m2\u001B[39m, axis\u001B[38;5;241m=\u001B[39m\u001B[38;5;241m0\u001B[39m, weights\u001B[38;5;241m=\u001B[39msample_weight)\n",
      "File \u001B[1;32m~\\miniconda3\\envs\\d2l\\lib\\site-packages\\sklearn\\metrics\\_regression.py:101\u001B[0m, in \u001B[0;36m_check_reg_targets\u001B[1;34m(y_true, y_pred, multioutput, dtype)\u001B[0m\n\u001B[0;32m     99\u001B[0m check_consistent_length(y_true, y_pred)\n\u001B[0;32m    100\u001B[0m y_true \u001B[38;5;241m=\u001B[39m check_array(y_true, ensure_2d\u001B[38;5;241m=\u001B[39m\u001B[38;5;28;01mFalse\u001B[39;00m, dtype\u001B[38;5;241m=\u001B[39mdtype)\n\u001B[1;32m--> 101\u001B[0m y_pred \u001B[38;5;241m=\u001B[39m \u001B[43mcheck_array\u001B[49m\u001B[43m(\u001B[49m\u001B[43my_pred\u001B[49m\u001B[43m,\u001B[49m\u001B[43m \u001B[49m\u001B[43mensure_2d\u001B[49m\u001B[38;5;241;43m=\u001B[39;49m\u001B[38;5;28;43;01mFalse\u001B[39;49;00m\u001B[43m,\u001B[49m\u001B[43m \u001B[49m\u001B[43mdtype\u001B[49m\u001B[38;5;241;43m=\u001B[39;49m\u001B[43mdtype\u001B[49m\u001B[43m)\u001B[49m\n\u001B[0;32m    103\u001B[0m \u001B[38;5;28;01mif\u001B[39;00m y_true\u001B[38;5;241m.\u001B[39mndim \u001B[38;5;241m==\u001B[39m \u001B[38;5;241m1\u001B[39m:\n\u001B[0;32m    104\u001B[0m     y_true \u001B[38;5;241m=\u001B[39m y_true\u001B[38;5;241m.\u001B[39mreshape((\u001B[38;5;241m-\u001B[39m\u001B[38;5;241m1\u001B[39m, \u001B[38;5;241m1\u001B[39m))\n",
      "File \u001B[1;32m~\\miniconda3\\envs\\d2l\\lib\\site-packages\\sklearn\\utils\\validation.py:957\u001B[0m, in \u001B[0;36mcheck_array\u001B[1;34m(array, accept_sparse, accept_large_sparse, dtype, order, copy, force_all_finite, ensure_2d, allow_nd, ensure_min_samples, ensure_min_features, estimator, input_name)\u001B[0m\n\u001B[0;32m    951\u001B[0m         \u001B[38;5;28;01mraise\u001B[39;00m \u001B[38;5;167;01mValueError\u001B[39;00m(\n\u001B[0;32m    952\u001B[0m             \u001B[38;5;124m\"\u001B[39m\u001B[38;5;124mFound array with dim \u001B[39m\u001B[38;5;132;01m%d\u001B[39;00m\u001B[38;5;124m. \u001B[39m\u001B[38;5;132;01m%s\u001B[39;00m\u001B[38;5;124m expected <= 2.\u001B[39m\u001B[38;5;124m\"\u001B[39m\n\u001B[0;32m    953\u001B[0m             \u001B[38;5;241m%\u001B[39m (array\u001B[38;5;241m.\u001B[39mndim, estimator_name)\n\u001B[0;32m    954\u001B[0m         )\n\u001B[0;32m    956\u001B[0m     \u001B[38;5;28;01mif\u001B[39;00m force_all_finite:\n\u001B[1;32m--> 957\u001B[0m         \u001B[43m_assert_all_finite\u001B[49m\u001B[43m(\u001B[49m\n\u001B[0;32m    958\u001B[0m \u001B[43m            \u001B[49m\u001B[43marray\u001B[49m\u001B[43m,\u001B[49m\n\u001B[0;32m    959\u001B[0m \u001B[43m            \u001B[49m\u001B[43minput_name\u001B[49m\u001B[38;5;241;43m=\u001B[39;49m\u001B[43minput_name\u001B[49m\u001B[43m,\u001B[49m\n\u001B[0;32m    960\u001B[0m \u001B[43m            \u001B[49m\u001B[43mestimator_name\u001B[49m\u001B[38;5;241;43m=\u001B[39;49m\u001B[43mestimator_name\u001B[49m\u001B[43m,\u001B[49m\n\u001B[0;32m    961\u001B[0m \u001B[43m            \u001B[49m\u001B[43mallow_nan\u001B[49m\u001B[38;5;241;43m=\u001B[39;49m\u001B[43mforce_all_finite\u001B[49m\u001B[43m \u001B[49m\u001B[38;5;241;43m==\u001B[39;49m\u001B[43m \u001B[49m\u001B[38;5;124;43m\"\u001B[39;49m\u001B[38;5;124;43mallow-nan\u001B[39;49m\u001B[38;5;124;43m\"\u001B[39;49m\u001B[43m,\u001B[49m\n\u001B[0;32m    962\u001B[0m \u001B[43m        \u001B[49m\u001B[43m)\u001B[49m\n\u001B[0;32m    964\u001B[0m \u001B[38;5;28;01mif\u001B[39;00m ensure_min_samples \u001B[38;5;241m>\u001B[39m \u001B[38;5;241m0\u001B[39m:\n\u001B[0;32m    965\u001B[0m     n_samples \u001B[38;5;241m=\u001B[39m _num_samples(array)\n",
      "File \u001B[1;32m~\\miniconda3\\envs\\d2l\\lib\\site-packages\\sklearn\\utils\\validation.py:122\u001B[0m, in \u001B[0;36m_assert_all_finite\u001B[1;34m(X, allow_nan, msg_dtype, estimator_name, input_name)\u001B[0m\n\u001B[0;32m    119\u001B[0m \u001B[38;5;28;01mif\u001B[39;00m first_pass_isfinite:\n\u001B[0;32m    120\u001B[0m     \u001B[38;5;28;01mreturn\u001B[39;00m\n\u001B[1;32m--> 122\u001B[0m \u001B[43m_assert_all_finite_element_wise\u001B[49m\u001B[43m(\u001B[49m\n\u001B[0;32m    123\u001B[0m \u001B[43m    \u001B[49m\u001B[43mX\u001B[49m\u001B[43m,\u001B[49m\n\u001B[0;32m    124\u001B[0m \u001B[43m    \u001B[49m\u001B[43mxp\u001B[49m\u001B[38;5;241;43m=\u001B[39;49m\u001B[43mxp\u001B[49m\u001B[43m,\u001B[49m\n\u001B[0;32m    125\u001B[0m \u001B[43m    \u001B[49m\u001B[43mallow_nan\u001B[49m\u001B[38;5;241;43m=\u001B[39;49m\u001B[43mallow_nan\u001B[49m\u001B[43m,\u001B[49m\n\u001B[0;32m    126\u001B[0m \u001B[43m    \u001B[49m\u001B[43mmsg_dtype\u001B[49m\u001B[38;5;241;43m=\u001B[39;49m\u001B[43mmsg_dtype\u001B[49m\u001B[43m,\u001B[49m\n\u001B[0;32m    127\u001B[0m \u001B[43m    \u001B[49m\u001B[43mestimator_name\u001B[49m\u001B[38;5;241;43m=\u001B[39;49m\u001B[43mestimator_name\u001B[49m\u001B[43m,\u001B[49m\n\u001B[0;32m    128\u001B[0m \u001B[43m    \u001B[49m\u001B[43minput_name\u001B[49m\u001B[38;5;241;43m=\u001B[39;49m\u001B[43minput_name\u001B[49m\u001B[43m,\u001B[49m\n\u001B[0;32m    129\u001B[0m \u001B[43m\u001B[49m\u001B[43m)\u001B[49m\n",
      "File \u001B[1;32m~\\miniconda3\\envs\\d2l\\lib\\site-packages\\sklearn\\utils\\validation.py:171\u001B[0m, in \u001B[0;36m_assert_all_finite_element_wise\u001B[1;34m(X, xp, allow_nan, msg_dtype, estimator_name, input_name)\u001B[0m\n\u001B[0;32m    154\u001B[0m \u001B[38;5;28;01mif\u001B[39;00m estimator_name \u001B[38;5;129;01mand\u001B[39;00m input_name \u001B[38;5;241m==\u001B[39m \u001B[38;5;124m\"\u001B[39m\u001B[38;5;124mX\u001B[39m\u001B[38;5;124m\"\u001B[39m \u001B[38;5;129;01mand\u001B[39;00m has_nan_error:\n\u001B[0;32m    155\u001B[0m     \u001B[38;5;66;03m# Improve the error message on how to handle missing values in\u001B[39;00m\n\u001B[0;32m    156\u001B[0m     \u001B[38;5;66;03m# scikit-learn.\u001B[39;00m\n\u001B[0;32m    157\u001B[0m     msg_err \u001B[38;5;241m+\u001B[39m\u001B[38;5;241m=\u001B[39m (\n\u001B[0;32m    158\u001B[0m         \u001B[38;5;124mf\u001B[39m\u001B[38;5;124m\"\u001B[39m\u001B[38;5;130;01m\\n\u001B[39;00m\u001B[38;5;132;01m{\u001B[39;00mestimator_name\u001B[38;5;132;01m}\u001B[39;00m\u001B[38;5;124m does not accept missing values\u001B[39m\u001B[38;5;124m\"\u001B[39m\n\u001B[0;32m    159\u001B[0m         \u001B[38;5;124m\"\u001B[39m\u001B[38;5;124m encoded as NaN natively. For supervised learning, you might want\u001B[39m\u001B[38;5;124m\"\u001B[39m\n\u001B[1;32m   (...)\u001B[0m\n\u001B[0;32m    169\u001B[0m         \u001B[38;5;124m\"\u001B[39m\u001B[38;5;124m#estimators-that-handle-nan-values\u001B[39m\u001B[38;5;124m\"\u001B[39m\n\u001B[0;32m    170\u001B[0m     )\n\u001B[1;32m--> 171\u001B[0m \u001B[38;5;28;01mraise\u001B[39;00m \u001B[38;5;167;01mValueError\u001B[39;00m(msg_err)\n",
      "\u001B[1;31mValueError\u001B[0m: Input contains NaN."
     ]
    }
   ],
   "execution_count": 78
  }
 ],
 "metadata": {
  "kernelspec": {
   "display_name": "Python 3",
   "language": "python",
   "name": "python3"
  },
  "language_info": {
   "codemirror_mode": {
    "name": "ipython",
    "version": 2
   },
   "file_extension": ".py",
   "mimetype": "text/x-python",
   "name": "python",
   "nbconvert_exporter": "python",
   "pygments_lexer": "ipython2",
   "version": "2.7.6"
  }
 },
 "nbformat": 4,
 "nbformat_minor": 5
}
