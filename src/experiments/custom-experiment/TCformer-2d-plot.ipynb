{
 "cells": [
  {
   "cell_type": "markdown",
   "id": "6e3ea57980f4ec0b",
   "metadata": {},
   "source": [
    "# TCFormer2d Plot"
   ]
  },
  {
   "cell_type": "code",
   "execution_count": 1,
   "id": "309af122f54ff30c",
   "metadata": {
    "ExecuteTime": {
     "end_time": "2024-10-13T15:01:06.061494Z",
     "start_time": "2024-10-13T15:01:06.058220Z"
    }
   },
   "outputs": [],
   "source": [
    "import torch\n",
    "import torch.nn as nn\n",
    "from torch.nn import functional as F\n",
    "import torch.optim as optim\n",
    "from torch.utils.data import Dataset, DataLoader,random_split\n",
    "import numpy as np\n",
    "from tqdm import tqdm, trange\n",
    "import math\n",
    "import pandas as pd\n",
    "import config\n",
    "from sklearn.preprocessing import MinMaxScaler"
   ]
  },
  {
   "cell_type": "markdown",
   "id": "ecee49f8b42ef2fd",
   "metadata": {},
   "source": [
    "# Building the model"
   ]
  },
  {
   "cell_type": "code",
   "execution_count": 2,
   "id": "36557aaa91a1e04a",
   "metadata": {
    "ExecuteTime": {
     "end_time": "2024-10-13T15:01:06.114778Z",
     "start_time": "2024-10-13T15:01:06.112448Z"
    }
   },
   "outputs": [],
   "source": [
    "device = torch.device('cuda' if torch.cuda.is_available() else 'cpu')"
   ]
  },
  {
   "cell_type": "code",
   "execution_count": 3,
   "id": "0a322c62",
   "metadata": {},
   "outputs": [],
   "source": [
    "class PositionalEncoding(nn.Module):\n",
    "    def __init__(self, d_model, max_len=5000):\n",
    "        super(PositionalEncoding, self).__init__()\n",
    "        pe = torch.zeros(max_len, d_model)\n",
    "        position = torch.arange(0, max_len, dtype=torch.float).unsqueeze(1)\n",
    "        div_term = torch.exp(torch.arange(0, d_model, 2).float() * (-math.log(10000.0) / d_model))\n",
    "        pe[:, 0::2] = torch.sin(position * div_term)\n",
    "        pe[:, 1::2] = torch.cos(position * div_term)\n",
    "        pe = pe.unsqueeze(0).transpose(0, 1)\n",
    "        self.register_buffer('pe', pe)\n",
    "\n",
    "    def forward(self, x):\n",
    "        return x + self.pe[:x.size(0), :]"
   ]
  },
  {
   "cell_type": "markdown",
   "id": "4b192a1ef519c33b",
   "metadata": {},
   "source": [
    "### Data processing"
   ]
  },
  {
   "cell_type": "code",
   "execution_count": 4,
   "id": "eb1ce3eee7c36a34",
   "metadata": {
    "ExecuteTime": {
     "end_time": "2024-10-13T15:01:06.165288Z",
     "start_time": "2024-10-13T15:01:06.162027Z"
    }
   },
   "outputs": [],
   "source": [
    "class TimeSeriesDataset(Dataset):\n",
    "    def __init__(self, data, lookback, pred_steps):\n",
    "        self.data = torch.FloatTensor(data)\n",
    "        self.lookback = lookback\n",
    "        self.pred_steps = pred_steps\n",
    "\n",
    "    def __len__(self):\n",
    "        return len(self.data) - self.lookback - self.pred_steps + 1\n",
    "\n",
    "    def __getitem__(self, idx):\n",
    "        x = self.data[idx:idx+self.lookback]\n",
    "        y = self.data[idx+self.lookback:idx+self.lookback+self.pred_steps]\n",
    "        return x, y\n"
   ]
  },
  {
   "cell_type": "markdown",
   "id": "84b51b0d",
   "metadata": {},
   "source": [
    "## Defining model"
   ]
  },
  {
   "cell_type": "code",
   "execution_count": 5,
   "id": "9baf6085",
   "metadata": {},
   "outputs": [],
   "source": [
    "class CNNPreprocessor(nn.Module):\n",
    "    def __init__(self, input_dim, input_seq_len, output_seq_len):\n",
    "        super().__init__()\n",
    "        self.input_dim = input_dim\n",
    "        self.input_seq_len = input_seq_len\n",
    "        self.output_seq_len = output_seq_len\n",
    "        \n",
    "        # Calculate the kernel size and stride to achieve the desired output sequence length\n",
    "        self.kernel_size = input_seq_len - output_seq_len + 1\n",
    "        self.stride = 1\n",
    "        \n",
    "        self.conv = nn.Conv1d(input_dim, input_dim, kernel_size=self.kernel_size, stride=self.stride)\n",
    "        \n",
    "    def forward(self, x):\n",
    "        # x shape: (batch_size, input_seq_len, input_dim)\n",
    "        x = x.transpose(1, 2)  # (batch_size, input_dim, input_seq_len)\n",
    "        x = self.conv(x)  # (batch_size, input_dim, output_seq_len)\n",
    "        return x.transpose(1, 2)  # (batch_size, output_seq_len, input_dim)"
   ]
  },
  {
   "cell_type": "code",
   "execution_count": 6,
   "id": "3d0bf1ee",
   "metadata": {},
   "outputs": [],
   "source": [
    "class CNNPreprocessor2D(nn.Module):\n",
    "    def __init__(self, input_dim, input_seq_len, output_seq_len, num_filters=32):\n",
    "        super().__init__()\n",
    "        self.input_dim = input_dim\n",
    "        self.input_seq_len = input_seq_len\n",
    "        self.output_seq_len = output_seq_len\n",
    "        \n",
    "        # Calculate the kernel size and stride to achieve the desired output sequence length\n",
    "        self.time_kernel_size = input_seq_len - output_seq_len + 1\n",
    "        self.time_stride = 1\n",
    "        \n",
    "        # Use a small kernel size for the dimension axis\n",
    "        self.dim_kernel_size = 3\n",
    "        self.dim_stride = 1\n",
    "        self.dim_padding = 1  # To maintain the number of dimensions\n",
    "        \n",
    "        self.conv2d = nn.Conv2d(\n",
    "            in_channels=1,  # Single channel input\n",
    "            out_channels=num_filters,\n",
    "            kernel_size=(self.dim_kernel_size, self.time_kernel_size),\n",
    "            stride=(self.dim_stride, self.time_stride),\n",
    "            padding=(self.dim_padding, 0)\n",
    "        )\n",
    "        \n",
    "        # Linear layer to project back to the original input dimension\n",
    "        self.projection = nn.Linear(num_filters, input_dim)\n",
    "        \n",
    "    def forward(self, x):\n",
    "        # x shape: (batch_size, input_seq_len, input_dim)\n",
    "        x = x.unsqueeze(1)  # (batch_size, 1, input_seq_len, input_dim)\n",
    "        x = self.conv2d(x)  # (batch_size, num_filters, output_seq_len, input_dim)\n",
    "        x = x.permute(0, 2, 3, 1)  # (batch_size, output_seq_len, input_dim, num_filters)\n",
    "        x = self.projection(x)  # (batch_size, output_seq_len, input_dim)\n",
    "        return x"
   ]
  },
  {
   "cell_type": "code",
   "execution_count": 7,
   "id": "5b63c758",
   "metadata": {},
   "outputs": [],
   "source": [
    "class TimeSeriesTransformer(nn.Module):\n",
    "    def __init__(self, input_dim, output_dim, d_model, nhead, num_encoder_layers, num_decoder_layers, dim_feedforward):\n",
    "        super().__init__()\n",
    "        self.encoder = nn.TransformerEncoder(\n",
    "            nn.TransformerEncoderLayer(d_model, nhead, dim_feedforward),\n",
    "            num_encoder_layers\n",
    "        )\n",
    "        self.decoder = nn.TransformerDecoder(\n",
    "            nn.TransformerDecoderLayer(d_model, nhead, dim_feedforward),\n",
    "            num_decoder_layers\n",
    "        )\n",
    "        self.input_proj = nn.Linear(input_dim, d_model)\n",
    "        self.output_proj = nn.Linear(d_model, output_dim)\n",
    "        \n",
    "    def forward(self, src, tgt):\n",
    "        src = self.input_proj(src)\n",
    "        tgt = self.input_proj(tgt)\n",
    "        \n",
    "        # Create mask for decoder\n",
    "        tgt_mask = self.generate_square_subsequent_mask(tgt.size(0)).to(tgt.device)\n",
    "        \n",
    "        memory = self.encoder(src)\n",
    "        output = self.decoder(tgt, memory, tgt_mask=tgt_mask)\n",
    "        return self.output_proj(output)\n",
    "    \n",
    "    def generate_square_subsequent_mask(self, sz):\n",
    "        mask = (torch.triu(torch.ones(sz, sz)) == 1).transpose(0, 1)\n",
    "        mask = mask.float().masked_fill(mask == 0, float('-inf')).masked_fill(mask == 1, float(0.0))\n",
    "        return mask"
   ]
  },
  {
   "cell_type": "markdown",
   "id": "0043e948",
   "metadata": {},
   "source": [
    "## Defining hybrid model"
   ]
  },
  {
   "cell_type": "code",
   "execution_count": 8,
   "id": "03cbc32b",
   "metadata": {},
   "outputs": [],
   "source": [
    "class HybridTimeSeriesTransformer(nn.Module):\n",
    "    def __init__(self, input_dim, output_dim, seq_len, d_model, nhead, num_encoder_layers, num_decoder_layers, dim_feedforward):\n",
    "        super().__init__()\n",
    "        self.seq_len = seq_len\n",
    "        self.processed_len = int(0.8 * seq_len)  # Length of sequence to be processed by CNN\n",
    "        self.raw_len = seq_len - self.processed_len  # Length of raw sequence to keep\n",
    "        \n",
    "        # CNN preprocessor to reduce the first 80% of the sequence\n",
    "        self.cnn_output_len = self.processed_len // 2  # Reduce processed sequence length by half\n",
    "        self.cnn_preprocessor =CNNPreprocessor2D(input_dim, self.processed_len, self.cnn_output_len)\n",
    "        \n",
    "        self.encoder = nn.TransformerEncoder(\n",
    "            nn.TransformerEncoderLayer(d_model, nhead, dim_feedforward),\n",
    "            num_encoder_layers\n",
    "        )\n",
    "        self.decoder = nn.TransformerDecoder(\n",
    "            nn.TransformerDecoderLayer(d_model, nhead, dim_feedforward),\n",
    "            num_decoder_layers\n",
    "        )\n",
    "        self.input_proj = nn.Linear(input_dim, d_model)\n",
    "        self.output_proj = nn.Linear(d_model, output_dim)\n",
    "        \n",
    "    def forward(self, src, tgt):\n",
    "        # src shape: (seq_len, batch_size, input_dim)\n",
    "        # tgt shape: (tgt_len, batch_size, input_dim)\n",
    "        \n",
    "        # Split the input sequence\n",
    "        src_to_process = src[:self.processed_len]\n",
    "        src_raw = src[self.processed_len:]\n",
    "        \n",
    "        # Process first 80% with CNN\n",
    "        src_processed = self.cnn_preprocessor(src_to_process.transpose(0, 1)).transpose(0, 1)\n",
    "        \n",
    "        # Combine processed and raw data\n",
    "        src_combined = torch.cat([src_processed, src_raw], dim=0)\n",
    "        \n",
    "        # Project input to d_model dimension\n",
    "        src_combined = self.input_proj(src_combined)\n",
    "        tgt = self.input_proj(tgt)\n",
    "        \n",
    "        # Create mask for decoder\n",
    "        tgt_mask = self.generate_square_subsequent_mask(tgt.size(0)).to(tgt.device)\n",
    "        \n",
    "        memory = self.encoder(src_combined)\n",
    "        output = self.decoder(tgt, memory, tgt_mask=tgt_mask)\n",
    "        return self.output_proj(output)\n",
    "    \n",
    "    def generate_square_subsequent_mask(self, sz):\n",
    "        mask = (torch.triu(torch.ones(sz, sz)) == 1).transpose(0, 1)\n",
    "        mask = mask.float().masked_fill(mask == 0, float('-inf')).masked_fill(mask == 1, float(0.0))\n",
    "        return mask"
   ]
  },
  {
   "cell_type": "markdown",
   "id": "c5044632",
   "metadata": {},
   "source": [
    "## Import data"
   ]
  },
  {
   "cell_type": "code",
   "execution_count": 9,
   "id": "8770a328",
   "metadata": {},
   "outputs": [],
   "source": [
    "def normalization(data):\n",
    "    scaler = MinMaxScaler()\n",
    "    data = scaler.fit_transform(data)\n",
    "    return data"
   ]
  },
  {
   "cell_type": "code",
   "execution_count": 10,
   "id": "576b21a8",
   "metadata": {},
   "outputs": [],
   "source": [
    "def load_data(filepath):\n",
    "    data = pd.read_csv(filepath)\n",
    "    if 'date' in data.columns:\n",
    "        data.drop(['date'], axis=1, inplace=True)\n",
    "    if 'Date' in data.columns:\n",
    "        data.drop(['Date'], axis=1, inplace=True)\n",
    "    if 'Adj Close' in data.columns:\n",
    "        data.drop(['Adj Close'], axis=1, inplace=True)\n",
    "    if 'Code' in data.columns:\n",
    "        data.drop(['Code'], axis=1, inplace=True)\n",
    "    if 'Time' in data.columns:\n",
    "        data.drop(['Time'], axis=1, inplace=True)\n",
    "    return data.dropna()"
   ]
  },
  {
   "cell_type": "code",
   "execution_count": 11,
   "id": "c737a825",
   "metadata": {},
   "outputs": [],
   "source": [
    "base_dir=config.base_dir\n",
    "# file_path = base_dir+\"/data/iTransformer_datasets/exchange_rate/exchange_rate.csv\"\n",
    "file_path = base_dir+\"/data/iTransformer_datasets/traffic/traffic.csv\"\n",
    "data=load_data(file_path)\n",
    "data=normalization(data)"
   ]
  },
  {
   "cell_type": "markdown",
   "id": "d0b9c833",
   "metadata": {},
   "source": [
    "## Params"
   ]
  },
  {
   "cell_type": "code",
   "execution_count": 12,
   "id": "631500b3",
   "metadata": {},
   "outputs": [],
   "source": [
    "# Hyperparameters\n",
    "lookback = 96 \n",
    "pred_steps = 18\n",
    "batch_size = config.batch_size\n",
    "input_dim = data.shape[1]\n",
    "output_dim = data.shape[1]\n",
    "d_model = config.hidden_dim\n",
    "nhead = config.num_heads\n",
    "num_encoder_layers = config.transformer_layers\n",
    "num_decoder_layers = config.transformer_layers\n",
    "dim_feedforward = config.ffn_dim\n",
    "num_epochs = 3 \n",
    "learning_rate = config.learning_rate\n",
    "weight_decay = config.weight_decay\n",
    "num_workers = config.num_workers\n",
    "kernel_size = 8\n",
    "stride = 2"
   ]
  },
  {
   "cell_type": "code",
   "execution_count": null,
   "id": "bee770d9",
   "metadata": {},
   "outputs": [
    {
     "name": "stderr",
     "output_type": "stream",
     "text": [
      "/home/asdf/miniconda3/envs/d2l/lib/python3.8/site-packages/torch/nn/modules/transformer.py:307: UserWarning: enable_nested_tensor is True, but self.use_nested_tensor is False because encoder_layer.self_attn.batch_first was not True(use batch_first for better inference performance)\n",
      "  warnings.warn(f\"enable_nested_tensor is True, but self.use_nested_tensor is False because {why_not_sparsity_fast_path}\")\n",
      "Epoch 1/3:   0%|          | 0/109 [00:00<?, ?it/s]"
     ]
    }
   ],
   "source": [
    "\n",
    "# Create dataset and dataloader\n",
    "full_dataset = TimeSeriesDataset(data, lookback, pred_steps)\n",
    "# Perform train-test split\n",
    "train_size = int(0.8 * len(full_dataset))\n",
    "test_size = len(full_dataset) - train_size\n",
    "train_dataset, test_dataset = random_split(full_dataset, [train_size, test_size])\n",
    "\n",
    "# Create dataloaders\n",
    "train_dataloader = DataLoader(train_dataset, batch_size=batch_size,num_workers=num_workers, shuffle=True)\n",
    "test_dataloader = DataLoader(test_dataset, batch_size=batch_size,num_workers=num_workers, shuffle=False)\n",
    "\n",
    "\n",
    "# Initialize model\n",
    "model = HybridTimeSeriesTransformer(\n",
    "    input_dim=input_dim,\n",
    "    output_dim=output_dim,\n",
    "    seq_len=lookback,\n",
    "    d_model=d_model,\n",
    "    nhead=nhead,\n",
    "    num_encoder_layers=num_encoder_layers,\n",
    "    num_decoder_layers=num_decoder_layers,\n",
    "    dim_feedforward=dim_feedforward\n",
    ").to(device)\n",
    "\n",
    "# hidden_dim = int((int(0.8*)-kernel_size) /\n",
    "#                      stride+1+seq_len-(int(0.8*seq_len)))\n",
    "\n",
    "# Loss function and optimizer\n",
    "criterion = nn.MSELoss()\n",
    "optimizer = optim.Adam(\n",
    "    model.parameters(), lr=learning_rate, weight_decay=weight_decay)\n",
    "\n",
    "# Training loop with tqdm\n",
    "for epoch in range(num_epochs):\n",
    "    model.train()\n",
    "    total_loss = 0\n",
    "    \n",
    "    progress_bar = tqdm(enumerate(train_dataloader), total=len(train_dataloader), desc=f\"Epoch {epoch+1}/{num_epochs}\")\n",
    "    for batch_idx, (batch_x, batch_y) in progress_bar:\n",
    "        optimizer.zero_grad()\n",
    "        \n",
    "        # Reshape input: (batch_size, seq_len, input_dim) -> (seq_len, batch_size, input_dim)\n",
    "        src = batch_x.permute(1, 0, 2).to(device)\n",
    "        tgt = batch_y.permute(1, 0, 2).to(device)\n",
    "        \n",
    "        # Use only the first timestep as initial input\n",
    "        tgt_input = torch.zeros_like(tgt).to(device)\n",
    "        tgt_input[0] = src[-1]  # Use the last timestep of input as the first decoder input\n",
    "        \n",
    "        output = model(src, tgt_input)\n",
    "        loss = criterion(output, tgt)\n",
    "        loss.backward()\n",
    "        optimizer.step()\n",
    "        \n",
    "        total_loss += loss.item()\n",
    "        avg_loss = total_loss / (batch_idx + 1)\n",
    "        progress_bar.set_postfix({'loss': f'{avg_loss:.4f}'})\n",
    "    \n",
    "    print(f\"Epoch {epoch+1}/{num_epochs} - Average loss: {avg_loss:.4f}\")\n",
    "\n",
    "print(\"Training completed!\")"
   ]
  },
  {
   "cell_type": "code",
   "execution_count": 72,
   "id": "db824520",
   "metadata": {},
   "outputs": [
    {
     "name": "stderr",
     "output_type": "stream",
     "text": [
      "Evaluating: 100%|██████████| 28/28 [00:00<00:00, 28.05it/s, avg_loss=0.0136]\n"
     ]
    }
   ],
   "source": [
    "# Function to make predictions\n",
    "def predict(model, input_seq, pred_steps):\n",
    "    model.eval()\n",
    "    with torch.no_grad():\n",
    "        src = input_seq.unsqueeze(1).to(device)  # Add batch dimension and move to GPU\n",
    "        tgt = torch.zeros(pred_steps, 1, input_seq.size(-1)).to(device)\n",
    "        tgt[0] = src[-1]  # Use the last timestep of input as the first decoder input\n",
    "        \n",
    "        for i in range(1, pred_steps):\n",
    "            output = model(src, tgt[:i])\n",
    "            tgt[i] = output[-1]\n",
    "        \n",
    "    return tgt.squeeze(1).cpu()  # Remove batch dimension and move back to CPU\n",
    "\n",
    "\n",
    "# Evaluate on test set\n",
    "def evaluate_loss(model,test_dataloader,criterion,device):\n",
    "    model.eval()\n",
    "    total_loss=0\n",
    "    num_batches = len(test_dataloader)\n",
    "    \n",
    "    with torch.no_grad():\n",
    "        progress_bar = tqdm(enumerate(test_dataloader), total=num_batches, desc=\"Evaluating\")\n",
    "        for batch_idx, (batch_x, batch_y) in progress_bar:\n",
    "            batch_x, batch_y = batch_x.to(device), batch_y.to(device)\n",
    "            \n",
    "            src = batch_x.permute(1, 0, 2).to(device)\n",
    "            tgt = batch_y.permute(1, 0, 2).to(device)\n",
    "\n",
    "            tgt_input = torch.zeros_like(tgt).to(device)\n",
    "            tgt_input[0] = src[-1]  # Use the last timestep of input as the first decoder input\n",
    "            \n",
    "            output = model(src, tgt_input)\n",
    "            loss = criterion(output, tgt)\n",
    "            \n",
    "            total_loss += loss.item()\n",
    "            avg_loss = total_loss / (batch_idx + 1)\n",
    "            progress_bar.set_postfix({'avg_loss': f'{avg_loss:.4f}'})\n",
    "    return total_loss / num_batches\n",
    "\n",
    "test_loss = evaluate_loss(model,test_dataloader,criterion,device) "
   ]
  },
  {
   "cell_type": "markdown",
   "id": "a408162b1298d614",
   "metadata": {},
   "source": [
    "## Plotting"
   ]
  },
  {
   "cell_type": "code",
   "execution_count": 73,
   "id": "11555475",
   "metadata": {},
   "outputs": [
    {
     "data": {
      "image/png": "[encoded data removed]",
      "text/plain": [
       "<Figure size 1200x600 with 1 Axes>"
      ]
     },
     "metadata": {},
     "output_type": "display_data"
    }
   ],
   "source": [
    "import matplotlib.pyplot as plt\n",
    "import numpy as np\n",
    "\n",
    "def plot_prediction(input_seq, true_future, prediction, input_window,variate_index=0 ):\n",
    "    \"\"\"\n",
    "    Plot the input sequence, true future, and prediction for a single variate.\n",
    "    \n",
    "    Args:\n",
    "    - input_seq (torch.Tensor): Input sequence\n",
    "    - true_future (torch.Tensor): True future values\n",
    "    - prediction (torch.Tensor): Predicted future values\n",
    "    - variate_index (int): Index of the variate to plot\n",
    "    - input_window (int): Number of input time steps to show\n",
    "    \"\"\"\n",
    "    plt.figure(figsize=(12, 6))\n",
    "    \n",
    "    # Convert tensors to numpy arrays\n",
    "    input_seq = input_seq.cpu().numpy()\n",
    "    true_future = true_future.cpu().numpy()\n",
    "    prediction = prediction.cpu().numpy()\n",
    "    \n",
    "    # Plot input sequence\n",
    "    plt.plot(range(input_window), input_seq[-input_window:, variate_index], \n",
    "             label='Input', color='blue')\n",
    "    \n",
    "    # Plot true future\n",
    "    future_steps = len(true_future)\n",
    "    plt.plot(range(input_window, input_window + future_steps), \n",
    "             true_future[:, variate_index], label='True Future', color='green')\n",
    "    \n",
    "    # Plot prediction\n",
    "    pred_steps = len(prediction)\n",
    "    plt.plot(range(input_window, input_window + pred_steps), \n",
    "             prediction[:, variate_index], label='Prediction', color='red')\n",
    "    \n",
    "    plt.axvline(x=input_window, color='k', linestyle='--')\n",
    "    plt.legend()\n",
    "    plt.title(f'Time Series Prediction (Variate {variate_index})')\n",
    "    plt.xlabel('Time Step')\n",
    "    plt.ylabel('Value')\n",
    "    plt.grid(True)\n",
    "    plt.show()\n",
    "\n",
    "# Example usage:\n",
    "# Assume we have a trained model and a test_dataloader\n",
    "\n",
    "# Get a sample from the test set\n",
    "sample_x, sample_y = next(iter(test_dataloader))\n",
    "\n",
    "# Move to the appropriate device\n",
    "sample_x = sample_x.to(device)\n",
    "sample_y = sample_y.to(device)\n",
    "\n",
    "# Get the last sequence from the batch\n",
    "input_seq = sample_x[-1]\n",
    "\n",
    "# Make a prediction\n",
    "prediction = predict(model, input_seq, pred_steps)\n",
    "\n",
    "# Plot the result\n",
    "plot_prediction(input_seq, sample_y[-1], prediction,lookback,variate_index=2)\n",
    "\n",
    "# If you want to plot a different variate, specify the index\n",
    "# plot_prediction(input_seq, sample_y[-1], prediction, variate_index=2)"
   ]
  },
  {
   "cell_type": "code",
   "execution_count": null,
   "id": "96973ce4",
   "metadata": {},
   "outputs": [],
   "source": []
  }
 ],
 "metadata": {
  "kernelspec": {
   "display_name": "d2l",
   "language": "python",
   "name": "python3"
  },
  "language_info": {
   "codemirror_mode": {
    "name": "ipython",
    "version": 3
   },
   "file_extension": ".py",
   "mimetype": "text/x-python",
   "name": "python",
   "nbconvert_exporter": "python",
   "pygments_lexer": "ipython3",
   "version": "3.8.19"
  }
 },
 "nbformat": 4,
 "nbformat_minor": 5
}
